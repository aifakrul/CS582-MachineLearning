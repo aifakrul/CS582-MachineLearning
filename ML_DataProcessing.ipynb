{
 "cells": [
  {
   "cell_type": "markdown",
   "metadata": {},
   "source": [
    "# GROUP-3\n",
    "#MD Fakrul Islam (613839)\n",
    "#Adama Daffeh (613827) \n",
    "#Raj Kumar Thapa (613819)\n",
    "#Adane Nigus (112351) "
   ]
  },
  {
   "cell_type": "code",
   "execution_count": null,
   "metadata": {
    "id": "Hh7ufiUJTtZj"
   },
   "outputs": [],
   "source": [
    "import os                                                         \n",
    "import cv2 \n",
    "import re\n",
    "from PIL import Image\n",
    "#from resizeimage import resizeimage\n",
    "from os.path import join\n",
    "from glob import glob\n",
    "import imageio\n",
    "import numpy as np\n"
   ]
  },
  {
   "cell_type": "code",
   "execution_count": 2,
   "metadata": {},
   "outputs": [
    {
     "name": "stdout",
     "output_type": "stream",
     "text": [
      "Function getsize loaded\n"
     ]
    }
   ],
   "source": [
    "def getListSize(itel_list):\n",
    "    count = 0\n",
    "    for img_path in itel_list:  \n",
    "        count = count + 1\n",
    "    return count\n",
    "\n",
    "print ('Function getsize loaded')"
   ]
  },
  {
   "cell_type": "code",
   "execution_count": 3,
   "metadata": {
    "id": "AsWz_UfvTtZl",
    "outputId": "9727a466-7654-4d3a-de6b-22dd9b3eb8d4"
   },
   "outputs": [
    {
     "name": "stdout",
     "output_type": "stream",
     "text": [
      "Image Dimension Loaded\n",
      "POTATO_HL\n"
     ]
    }
   ],
   "source": [
    "IMG_HEIGHT = 32\n",
    "IMG_WIDTH = 32\n",
    "IMAGE_SIZE = [IMG_HEIGHT, IMG_WIDTH]\n",
    "#Crop Images Location\n",
    "CROP_IMAGE_LOCATION='F:/machine_learning_project/Potato/Healthy'\n",
    "CROP_NAME = 'POTATO'\n",
    "DISEASES_NAME = '_HL'\n",
    "#CROP_NAME = 'PO'\n",
    "#DISEASES_NAME = '_HL'\n",
    "FINAL_TAG = CROP_NAME+DISEASES_NAME\n",
    "print('Image Dimension Loaded')\n",
    "print(FINAL_TAG)"
   ]
  },
  {
   "cell_type": "code",
   "execution_count": 4,
   "metadata": {},
   "outputs": [],
   "source": [
    "def variance_of_laplacian(image):\n",
    "    gray = cv2.cvtColor(image, cv2.COLOR_BGR2GRAY)\n",
    "    return cv2.Laplacian(gray, cv2.CV_64F).var()"
   ]
  },
  {
   "cell_type": "code",
   "execution_count": 5,
   "metadata": {
    "id": "Q0DdyoFnTtZn",
    "outputId": "773b6b32-f3e4-41ac-ea21-72813777d1e7"
   },
   "outputs": [
    {
     "name": "stdout",
     "output_type": "stream",
     "text": [
      "Function pprocess_image load\n"
     ]
    }
   ],
   "source": [
    "#Process PlantVillageData Dataset\n",
    "def pprocess_image(image_path, count, tag):\n",
    "    path, filename = os.path.split(image_path)   \n",
    "    filename_w_ext = os.path.basename(image_path)\n",
    "    filename, file_extension = os.path.splitext(filename_w_ext)    \n",
    "    _newfilename=path+\"/\"+tag+\"_\"+str(count)+file_extension.upper()\n",
    "    print(_newfilename)\n",
    "    main_img = cv2.imread(image_path)\n",
    "    fm = variance_of_laplacian(main_img)    \n",
    "    if (fm > 100):\n",
    "        resized_image = cv2.resize(main_img, (IMG_WIDTH, IMG_HEIGHT), interpolation = cv2.INTER_AREA)    \n",
    "        cv2.imwrite(_newfilename, resized_image)\n",
    "        \n",
    "    os.remove(image_path) \n",
    "                \n",
    "print('Function pprocess_image load')"
   ]
  },
  {
   "cell_type": "markdown",
   "metadata": {
    "id": "wY6R2HEOTtZp"
   },
   "source": [
    "# Indexing, Formatting, Resizing and Renaming all CROP Images"
   ]
  },
  {
   "cell_type": "code",
   "execution_count": 6,
   "metadata": {
    "id": "cWg5MaWETtZq"
   },
   "outputs": [],
   "source": [
    "CROP_IMAGE_Files = []\n",
    "for ext in ('*.JPEG', '*.JPG', '*.jpeg'):\n",
    "   CROP_IMAGE_Files.extend(glob(join(CROP_IMAGE_LOCATION, ext)))"
   ]
  },
  {
   "cell_type": "code",
   "execution_count": 7,
   "metadata": {
    "id": "iAnGg-PuTtZr",
    "outputId": "9f75b055-fa49-4baa-a7c1-6a81ef55c92e"
   },
   "outputs": [
    {
     "name": "stdout",
     "output_type": "stream",
     "text": [
      "Total CROP_IMAGE_Files : 152\n"
     ]
    }
   ],
   "source": [
    "print('Total CROP_IMAGE_Files :',getListSize(CROP_IMAGE_Files))"
   ]
  },
  {
   "cell_type": "code",
   "execution_count": 8,
   "metadata": {
    "id": "68535WDTTtZr",
    "outputId": "7545b62b-0eb1-4ec3-fd2f-25f1836c0d18"
   },
   "outputs": [
    {
     "name": "stdout",
     "output_type": "stream",
     "text": [
      "CROP_LOCATION_IMAGES: F:/machine_learning_project/Potato/Healthy\n",
      "F:/machine_learning_project/Potato/Healthy/POTATO_HL_1.JPG\n",
      "F:/machine_learning_project/Potato/Healthy/POTATO_HL_2.JPG\n",
      "F:/machine_learning_project/Potato/Healthy/POTATO_HL_3.JPG\n",
      "F:/machine_learning_project/Potato/Healthy/POTATO_HL_4.JPG\n",
      "F:/machine_learning_project/Potato/Healthy/POTATO_HL_5.JPG\n",
      "F:/machine_learning_project/Potato/Healthy/POTATO_HL_6.JPG\n",
      "F:/machine_learning_project/Potato/Healthy/POTATO_HL_7.JPG\n",
      "F:/machine_learning_project/Potato/Healthy/POTATO_HL_8.JPG\n",
      "F:/machine_learning_project/Potato/Healthy/POTATO_HL_9.JPG\n",
      "F:/machine_learning_project/Potato/Healthy/POTATO_HL_10.JPG\n",
      "F:/machine_learning_project/Potato/Healthy/POTATO_HL_11.JPG\n",
      "F:/machine_learning_project/Potato/Healthy/POTATO_HL_12.JPG\n",
      "F:/machine_learning_project/Potato/Healthy/POTATO_HL_13.JPG\n",
      "F:/machine_learning_project/Potato/Healthy/POTATO_HL_14.JPG\n",
      "F:/machine_learning_project/Potato/Healthy/POTATO_HL_15.JPG\n",
      "F:/machine_learning_project/Potato/Healthy/POTATO_HL_16.JPG\n",
      "F:/machine_learning_project/Potato/Healthy/POTATO_HL_17.JPG\n",
      "F:/machine_learning_project/Potato/Healthy/POTATO_HL_18.JPG\n",
      "F:/machine_learning_project/Potato/Healthy/POTATO_HL_19.JPG\n",
      "F:/machine_learning_project/Potato/Healthy/POTATO_HL_20.JPG\n",
      "F:/machine_learning_project/Potato/Healthy/POTATO_HL_21.JPG\n",
      "F:/machine_learning_project/Potato/Healthy/POTATO_HL_22.JPG\n",
      "F:/machine_learning_project/Potato/Healthy/POTATO_HL_23.JPG\n",
      "F:/machine_learning_project/Potato/Healthy/POTATO_HL_24.JPG\n",
      "F:/machine_learning_project/Potato/Healthy/POTATO_HL_25.JPG\n",
      "F:/machine_learning_project/Potato/Healthy/POTATO_HL_26.JPG\n",
      "F:/machine_learning_project/Potato/Healthy/POTATO_HL_27.JPG\n",
      "F:/machine_learning_project/Potato/Healthy/POTATO_HL_28.JPG\n",
      "F:/machine_learning_project/Potato/Healthy/POTATO_HL_29.JPG\n",
      "F:/machine_learning_project/Potato/Healthy/POTATO_HL_30.JPG\n",
      "F:/machine_learning_project/Potato/Healthy/POTATO_HL_31.JPG\n",
      "F:/machine_learning_project/Potato/Healthy/POTATO_HL_32.JPG\n",
      "F:/machine_learning_project/Potato/Healthy/POTATO_HL_33.JPG\n",
      "F:/machine_learning_project/Potato/Healthy/POTATO_HL_34.JPG\n",
      "F:/machine_learning_project/Potato/Healthy/POTATO_HL_35.JPG\n",
      "F:/machine_learning_project/Potato/Healthy/POTATO_HL_36.JPG\n",
      "F:/machine_learning_project/Potato/Healthy/POTATO_HL_37.JPG\n",
      "F:/machine_learning_project/Potato/Healthy/POTATO_HL_38.JPG\n",
      "F:/machine_learning_project/Potato/Healthy/POTATO_HL_39.JPG\n",
      "F:/machine_learning_project/Potato/Healthy/POTATO_HL_40.JPG\n",
      "F:/machine_learning_project/Potato/Healthy/POTATO_HL_41.JPG\n",
      "F:/machine_learning_project/Potato/Healthy/POTATO_HL_42.JPG\n",
      "F:/machine_learning_project/Potato/Healthy/POTATO_HL_43.JPG\n",
      "F:/machine_learning_project/Potato/Healthy/POTATO_HL_44.JPG\n",
      "F:/machine_learning_project/Potato/Healthy/POTATO_HL_45.JPG\n",
      "F:/machine_learning_project/Potato/Healthy/POTATO_HL_46.JPG\n",
      "F:/machine_learning_project/Potato/Healthy/POTATO_HL_47.JPG\n",
      "F:/machine_learning_project/Potato/Healthy/POTATO_HL_48.JPG\n",
      "F:/machine_learning_project/Potato/Healthy/POTATO_HL_49.JPG\n",
      "F:/machine_learning_project/Potato/Healthy/POTATO_HL_50.JPG\n",
      "F:/machine_learning_project/Potato/Healthy/POTATO_HL_51.JPG\n",
      "F:/machine_learning_project/Potato/Healthy/POTATO_HL_52.JPG\n",
      "F:/machine_learning_project/Potato/Healthy/POTATO_HL_53.JPG\n",
      "F:/machine_learning_project/Potato/Healthy/POTATO_HL_54.JPG\n",
      "F:/machine_learning_project/Potato/Healthy/POTATO_HL_55.JPG\n",
      "F:/machine_learning_project/Potato/Healthy/POTATO_HL_56.JPG\n",
      "F:/machine_learning_project/Potato/Healthy/POTATO_HL_57.JPG\n",
      "F:/machine_learning_project/Potato/Healthy/POTATO_HL_58.JPG\n",
      "F:/machine_learning_project/Potato/Healthy/POTATO_HL_59.JPG\n",
      "F:/machine_learning_project/Potato/Healthy/POTATO_HL_60.JPG\n",
      "F:/machine_learning_project/Potato/Healthy/POTATO_HL_61.JPG\n",
      "F:/machine_learning_project/Potato/Healthy/POTATO_HL_62.JPG\n",
      "F:/machine_learning_project/Potato/Healthy/POTATO_HL_63.JPG\n",
      "F:/machine_learning_project/Potato/Healthy/POTATO_HL_64.JPG\n",
      "F:/machine_learning_project/Potato/Healthy/POTATO_HL_65.JPG\n",
      "F:/machine_learning_project/Potato/Healthy/POTATO_HL_66.JPG\n",
      "F:/machine_learning_project/Potato/Healthy/POTATO_HL_67.JPG\n",
      "F:/machine_learning_project/Potato/Healthy/POTATO_HL_68.JPG\n",
      "F:/machine_learning_project/Potato/Healthy/POTATO_HL_69.JPG\n",
      "F:/machine_learning_project/Potato/Healthy/POTATO_HL_70.JPG\n",
      "F:/machine_learning_project/Potato/Healthy/POTATO_HL_71.JPG\n",
      "F:/machine_learning_project/Potato/Healthy/POTATO_HL_72.JPG\n",
      "F:/machine_learning_project/Potato/Healthy/POTATO_HL_73.JPG\n",
      "F:/machine_learning_project/Potato/Healthy/POTATO_HL_74.JPG\n",
      "F:/machine_learning_project/Potato/Healthy/POTATO_HL_75.JPG\n",
      "F:/machine_learning_project/Potato/Healthy/POTATO_HL_76.JPG\n",
      "F:/machine_learning_project/Potato/Healthy/POTATO_HL_77.JPG\n",
      "F:/machine_learning_project/Potato/Healthy/POTATO_HL_78.JPG\n",
      "F:/machine_learning_project/Potato/Healthy/POTATO_HL_79.JPG\n",
      "F:/machine_learning_project/Potato/Healthy/POTATO_HL_80.JPG\n",
      "F:/machine_learning_project/Potato/Healthy/POTATO_HL_81.JPG\n",
      "F:/machine_learning_project/Potato/Healthy/POTATO_HL_82.JPG\n",
      "F:/machine_learning_project/Potato/Healthy/POTATO_HL_83.JPG\n",
      "F:/machine_learning_project/Potato/Healthy/POTATO_HL_84.JPG\n",
      "F:/machine_learning_project/Potato/Healthy/POTATO_HL_85.JPG\n",
      "F:/machine_learning_project/Potato/Healthy/POTATO_HL_86.JPG\n",
      "F:/machine_learning_project/Potato/Healthy/POTATO_HL_87.JPG\n",
      "F:/machine_learning_project/Potato/Healthy/POTATO_HL_88.JPG\n",
      "F:/machine_learning_project/Potato/Healthy/POTATO_HL_89.JPG\n",
      "F:/machine_learning_project/Potato/Healthy/POTATO_HL_90.JPG\n",
      "F:/machine_learning_project/Potato/Healthy/POTATO_HL_91.JPG\n",
      "F:/machine_learning_project/Potato/Healthy/POTATO_HL_92.JPG\n",
      "F:/machine_learning_project/Potato/Healthy/POTATO_HL_93.JPG\n",
      "F:/machine_learning_project/Potato/Healthy/POTATO_HL_94.JPG\n",
      "F:/machine_learning_project/Potato/Healthy/POTATO_HL_95.JPG\n",
      "F:/machine_learning_project/Potato/Healthy/POTATO_HL_96.JPG\n",
      "F:/machine_learning_project/Potato/Healthy/POTATO_HL_97.JPG\n",
      "F:/machine_learning_project/Potato/Healthy/POTATO_HL_98.JPG\n",
      "F:/machine_learning_project/Potato/Healthy/POTATO_HL_99.JPG\n",
      "F:/machine_learning_project/Potato/Healthy/POTATO_HL_100.JPG\n",
      "F:/machine_learning_project/Potato/Healthy/POTATO_HL_101.JPG\n",
      "F:/machine_learning_project/Potato/Healthy/POTATO_HL_102.JPG\n",
      "F:/machine_learning_project/Potato/Healthy/POTATO_HL_103.JPG\n",
      "F:/machine_learning_project/Potato/Healthy/POTATO_HL_104.JPG\n",
      "F:/machine_learning_project/Potato/Healthy/POTATO_HL_105.JPG\n",
      "F:/machine_learning_project/Potato/Healthy/POTATO_HL_106.JPG\n",
      "F:/machine_learning_project/Potato/Healthy/POTATO_HL_107.JPG\n",
      "F:/machine_learning_project/Potato/Healthy/POTATO_HL_108.JPG\n",
      "F:/machine_learning_project/Potato/Healthy/POTATO_HL_109.JPG\n",
      "F:/machine_learning_project/Potato/Healthy/POTATO_HL_110.JPG\n",
      "F:/machine_learning_project/Potato/Healthy/POTATO_HL_111.JPG\n",
      "F:/machine_learning_project/Potato/Healthy/POTATO_HL_112.JPG\n",
      "F:/machine_learning_project/Potato/Healthy/POTATO_HL_113.JPG\n",
      "F:/machine_learning_project/Potato/Healthy/POTATO_HL_114.JPG\n",
      "F:/machine_learning_project/Potato/Healthy/POTATO_HL_115.JPG\n",
      "F:/machine_learning_project/Potato/Healthy/POTATO_HL_116.JPG\n",
      "F:/machine_learning_project/Potato/Healthy/POTATO_HL_117.JPG\n",
      "F:/machine_learning_project/Potato/Healthy/POTATO_HL_118.JPG\n",
      "F:/machine_learning_project/Potato/Healthy/POTATO_HL_119.JPG\n",
      "F:/machine_learning_project/Potato/Healthy/POTATO_HL_120.JPG\n",
      "F:/machine_learning_project/Potato/Healthy/POTATO_HL_121.JPG\n",
      "F:/machine_learning_project/Potato/Healthy/POTATO_HL_122.JPG\n",
      "F:/machine_learning_project/Potato/Healthy/POTATO_HL_123.JPG\n",
      "F:/machine_learning_project/Potato/Healthy/POTATO_HL_124.JPG\n",
      "F:/machine_learning_project/Potato/Healthy/POTATO_HL_125.JPG\n",
      "F:/machine_learning_project/Potato/Healthy/POTATO_HL_126.JPG\n",
      "F:/machine_learning_project/Potato/Healthy/POTATO_HL_127.JPG\n",
      "F:/machine_learning_project/Potato/Healthy/POTATO_HL_128.JPG\n",
      "F:/machine_learning_project/Potato/Healthy/POTATO_HL_129.JPG\n",
      "F:/machine_learning_project/Potato/Healthy/POTATO_HL_130.JPG\n",
      "F:/machine_learning_project/Potato/Healthy/POTATO_HL_131.JPG\n",
      "F:/machine_learning_project/Potato/Healthy/POTATO_HL_132.JPG\n",
      "F:/machine_learning_project/Potato/Healthy/POTATO_HL_133.JPG\n",
      "F:/machine_learning_project/Potato/Healthy/POTATO_HL_134.JPG\n",
      "F:/machine_learning_project/Potato/Healthy/POTATO_HL_135.JPG\n",
      "F:/machine_learning_project/Potato/Healthy/POTATO_HL_136.JPG\n",
      "F:/machine_learning_project/Potato/Healthy/POTATO_HL_137.JPG\n",
      "F:/machine_learning_project/Potato/Healthy/POTATO_HL_138.JPG\n",
      "F:/machine_learning_project/Potato/Healthy/POTATO_HL_139.JPG\n",
      "F:/machine_learning_project/Potato/Healthy/POTATO_HL_140.JPG\n",
      "F:/machine_learning_project/Potato/Healthy/POTATO_HL_141.JPG\n",
      "F:/machine_learning_project/Potato/Healthy/POTATO_HL_142.JPG\n",
      "F:/machine_learning_project/Potato/Healthy/POTATO_HL_143.JPG\n",
      "F:/machine_learning_project/Potato/Healthy/POTATO_HL_144.JPG\n",
      "F:/machine_learning_project/Potato/Healthy/POTATO_HL_145.JPG\n",
      "F:/machine_learning_project/Potato/Healthy/POTATO_HL_146.JPG\n",
      "F:/machine_learning_project/Potato/Healthy/POTATO_HL_147.JPG\n",
      "F:/machine_learning_project/Potato/Healthy/POTATO_HL_148.JPG\n",
      "F:/machine_learning_project/Potato/Healthy/POTATO_HL_149.JPG\n"
     ]
    },
    {
     "name": "stdout",
     "output_type": "stream",
     "text": [
      "F:/machine_learning_project/Potato/Healthy/POTATO_HL_150.JPG\n",
      "F:/machine_learning_project/Potato/Healthy/POTATO_HL_151.JPG\n",
      "F:/machine_learning_project/Potato/Healthy/POTATO_HL_152.JPG\n",
      "Total Images: 152\n"
     ]
    }
   ],
   "source": [
    "count=0\n",
    "print('CROP_LOCATION_IMAGES:',CROP_IMAGE_LOCATION)\n",
    "# Load all images\n",
    "for IMAGE_PATH in CROP_IMAGE_Files:\n",
    "    count = count + 1 \n",
    "    #process_image(IMAGE_PATH, count, FINAL_TAG)\n",
    "    pprocess_image(IMAGE_PATH, count, FINAL_TAG)\n",
    "    #pprocess_image(IMAGE_PATH, count, 23)\n",
    "print(\"Total Images: \" +str(count))"
   ]
  },
  {
   "cell_type": "code",
   "execution_count": null,
   "metadata": {
    "id": "CF0q_dgvTtZs"
   },
   "outputs": [],
   "source": []
  }
 ],
 "metadata": {
  "colab": {
   "name": "cropimage_indexing_renaming_resizing_and_formating.ipynb",
   "provenance": []
  },
  "kernelspec": {
   "display_name": "Python 3",
   "language": "python",
   "name": "python3"
  },
  "language_info": {
   "codemirror_mode": {
    "name": "ipython",
    "version": 3
   },
   "file_extension": ".py",
   "mimetype": "text/x-python",
   "name": "python",
   "nbconvert_exporter": "python",
   "pygments_lexer": "ipython3",
   "version": "3.8.8"
  }
 },
 "nbformat": 4,
 "nbformat_minor": 1
}
