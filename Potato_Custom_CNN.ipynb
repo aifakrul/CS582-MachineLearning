{
  "cells": [
    {
      "cell_type": "markdown",
      "metadata": {
        "id": "2e4892e3"
      },
      "source": [
        "# GROUP-3\n",
        "#MD Fakrul Islam (613839)\n",
        "#Adama Daffeh (613827) \n",
        "#Raj Kumar Thapa (613819)\n",
        "#Adane Nigus (112351) "
      ],
      "id": "2e4892e3"
    },
    {
      "cell_type": "code",
      "execution_count": 1,
      "metadata": {
        "colab": {
          "base_uri": "https://localhost:8080/"
        },
        "id": "hsT6EUTz7dU_",
        "outputId": "1dd7a8bb-0b70-4452-e1ec-6d22f6fa6881"
      },
      "outputs": [
        {
          "output_type": "stream",
          "name": "stdout",
          "text": [
            "Requirement already satisfied: split-folders in /usr/local/lib/python3.7/dist-packages (0.5.1)\n"
          ]
        }
      ],
      "source": [
        "!pip install split-folders"
      ],
      "id": "hsT6EUTz7dU_"
    },
    {
      "cell_type": "code",
      "execution_count": 2,
      "metadata": {
        "colab": {
          "base_uri": "https://localhost:8080/"
        },
        "id": "VOzw7Xa97nf7",
        "outputId": "82f28b80-6c91-4c22-f9be-be11d9558fe5"
      },
      "outputs": [
        {
          "output_type": "stream",
          "name": "stdout",
          "text": [
            "Drive already mounted at /content/drive; to attempt to forcibly remount, call drive.mount(\"/content/drive\", force_remount=True).\n"
          ]
        }
      ],
      "source": [
        "from google.colab import drive\n",
        "drive.mount('/content/drive')"
      ],
      "id": "VOzw7Xa97nf7"
    },
    {
      "cell_type": "code",
      "execution_count": 3,
      "metadata": {
        "id": "53a8b8e3"
      },
      "outputs": [],
      "source": [
        "import splitfolders"
      ],
      "id": "53a8b8e3"
    },
    {
      "cell_type": "code",
      "execution_count": 4,
      "metadata": {
        "id": "8e9c705f"
      },
      "outputs": [],
      "source": [
        "CROP_IMAGE_LOCATION=\"/content/drive/MyDrive/PlantAI/Potato\"\n",
        "CROP_IMAGE_SPLIT_LOCATION=\"/content\""
      ],
      "id": "8e9c705f"
    },
    {
      "cell_type": "code",
      "execution_count": 5,
      "metadata": {
        "colab": {
          "base_uri": "https://localhost:8080/"
        },
        "id": "bd493649",
        "outputId": "124d2ce2-d087-4758-eae7-f73760382ca3"
      },
      "outputs": [
        {
          "output_type": "stream",
          "name": "stderr",
          "text": [
            "Copying files: 2152 files [00:10, 214.60 files/s]\n"
          ]
        }
      ],
      "source": [
        "splitfolders.ratio(CROP_IMAGE_LOCATION, output=CROP_IMAGE_SPLIT_LOCATION,\n",
        "    seed=1337, ratio=(.7, .15, .15), group_prefix=None, move=False) # default values"
      ],
      "id": "bd493649"
    },
    {
      "cell_type": "code",
      "execution_count": 6,
      "metadata": {
        "colab": {
          "base_uri": "https://localhost:8080/"
        },
        "id": "410f7c48",
        "outputId": "0126f2c5-9d64-46ce-80c5-ca79ce0524a8"
      },
      "outputs": [
        {
          "output_type": "stream",
          "name": "stdout",
          "text": [
            "Tensorflow version 2.8.0\n"
          ]
        }
      ],
      "source": [
        "import os, sys, math\n",
        "import numpy as np\n",
        "from matplotlib import pyplot as plt\n",
        "import tensorflow as tf\n",
        "print(\"Tensorflow version \" + tf.__version__)\n",
        "AUTO = tf.data.experimental.AUTOTUNE "
      ],
      "id": "410f7c48"
    },
    {
      "cell_type": "code",
      "execution_count": 7,
      "metadata": {
        "colab": {
          "base_uri": "https://localhost:8080/"
        },
        "id": "THDejfDC8RLB",
        "outputId": "85cdc200-a75d-4a2d-97eb-116ba85eef8f"
      },
      "outputs": [
        {
          "output_type": "stream",
          "name": "stdout",
          "text": [
            "[b'EarlyBlight', b'Healthy', b'LateBlight']\n"
          ]
        }
      ],
      "source": [
        "TARGET_SIZE = [150, 150]\n",
        "CLASSES = [b'EarlyBlight', b'Healthy', b'LateBlight'] # do not change, maps to the labels in the data (folder names)\n",
        "print(CLASSES)"
      ],
      "id": "THDejfDC8RLB"
    },
    {
      "cell_type": "code",
      "execution_count": 8,
      "metadata": {
        "colab": {
          "base_uri": "https://localhost:8080/"
        },
        "id": "3z6m-x488XS-",
        "outputId": "b9cf3e66-24b7-4bff-c8a7-4c769090c0ae"
      },
      "outputs": [
        {
          "output_type": "stream",
          "name": "stdout",
          "text": [
            "Requirement already satisfied: scikit-image in /usr/local/lib/python3.7/dist-packages (0.18.3)\n",
            "Requirement already satisfied: networkx>=2.0 in /usr/local/lib/python3.7/dist-packages (from scikit-image) (2.6.3)\n",
            "Requirement already satisfied: PyWavelets>=1.1.1 in /usr/local/lib/python3.7/dist-packages (from scikit-image) (1.3.0)\n",
            "Requirement already satisfied: tifffile>=2019.7.26 in /usr/local/lib/python3.7/dist-packages (from scikit-image) (2021.11.2)\n",
            "Requirement already satisfied: scipy>=1.0.1 in /usr/local/lib/python3.7/dist-packages (from scikit-image) (1.4.1)\n",
            "Requirement already satisfied: imageio>=2.3.0 in /usr/local/lib/python3.7/dist-packages (from scikit-image) (2.4.1)\n",
            "Requirement already satisfied: pillow!=7.1.0,!=7.1.1,>=4.3.0 in /usr/local/lib/python3.7/dist-packages (from scikit-image) (7.1.2)\n",
            "Requirement already satisfied: numpy>=1.16.5 in /usr/local/lib/python3.7/dist-packages (from scikit-image) (1.21.5)\n",
            "Requirement already satisfied: matplotlib!=3.0.0,>=2.0.0 in /usr/local/lib/python3.7/dist-packages (from scikit-image) (3.2.2)\n",
            "Requirement already satisfied: cycler>=0.10 in /usr/local/lib/python3.7/dist-packages (from matplotlib!=3.0.0,>=2.0.0->scikit-image) (0.11.0)\n",
            "Requirement already satisfied: python-dateutil>=2.1 in /usr/local/lib/python3.7/dist-packages (from matplotlib!=3.0.0,>=2.0.0->scikit-image) (2.8.2)\n",
            "Requirement already satisfied: pyparsing!=2.0.4,!=2.1.2,!=2.1.6,>=2.0.1 in /usr/local/lib/python3.7/dist-packages (from matplotlib!=3.0.0,>=2.0.0->scikit-image) (3.0.8)\n",
            "Requirement already satisfied: kiwisolver>=1.0.1 in /usr/local/lib/python3.7/dist-packages (from matplotlib!=3.0.0,>=2.0.0->scikit-image) (1.4.2)\n",
            "Requirement already satisfied: typing-extensions in /usr/local/lib/python3.7/dist-packages (from kiwisolver>=1.0.1->matplotlib!=3.0.0,>=2.0.0->scikit-image) (4.1.1)\n",
            "Requirement already satisfied: six>=1.5 in /usr/local/lib/python3.7/dist-packages (from python-dateutil>=2.1->matplotlib!=3.0.0,>=2.0.0->scikit-image) (1.15.0)\n"
          ]
        }
      ],
      "source": [
        "!pip install scikit-image"
      ],
      "id": "3z6m-x488XS-"
    },
    {
      "cell_type": "code",
      "execution_count": 9,
      "metadata": {
        "id": "iRFenzEJ8YOE"
      },
      "outputs": [],
      "source": [
        "from glob import glob  \n",
        "import os                                                         \n",
        "import cv2 \n",
        "import re\n",
        "from os.path import join\n",
        "from glob import glob"
      ],
      "id": "iRFenzEJ8YOE"
    },
    {
      "cell_type": "code",
      "execution_count": 10,
      "metadata": {
        "id": "M2zJ7aZv8bVs"
      },
      "outputs": [],
      "source": [
        "datagen = tf.keras.preprocessing.image.ImageDataGenerator(\n",
        "        rescale = 1./255,\n",
        "        rotation_range=45,     #Random rotation between 0 and 45\n",
        "        width_shift_range=0.2,   #% shift\n",
        "        height_shift_range=0.2,\n",
        "        shear_range=0.2,\n",
        "        zoom_range=0.2,\n",
        "        horizontal_flip=True,\n",
        "        brightness_range=[0.2,1.2], # brightness\n",
        "        fill_mode='reflect', cval=125)    #Also try nearest, constant, reflect, wrap"
      ],
      "id": "M2zJ7aZv8bVs"
    },
    {
      "cell_type": "code",
      "execution_count": 11,
      "metadata": {
        "colab": {
          "base_uri": "https://localhost:8080/"
        },
        "id": "JcZ6S4tX8e2U",
        "outputId": "358b8b2c-3869-49c4-e604-512d995e4997"
      },
      "outputs": [
        {
          "output_type": "stream",
          "name": "stdout",
          "text": [
            "Found 1505 images belonging to 3 classes.\n",
            "Found 321 images belonging to 3 classes.\n",
            "Found 326 images belonging to 3 classes.\n"
          ]
        }
      ],
      "source": [
        "from skimage import io\n",
        "import tensorflow as tf\n",
        "import keras_preprocessing\n",
        "from keras_preprocessing import image\n",
        "from keras_preprocessing.image import ImageDataGenerator\n",
        "\n",
        "TRAINING_DIR = \"/content/train/\"\n",
        "training_datagen = tf.keras.preprocessing.image.ImageDataGenerator(\n",
        "      rescale = 1./255,\n",
        "\t    rotation_range=40,\n",
        "      width_shift_range=0.2,\n",
        "      height_shift_range=0.2,\n",
        "      shear_range=0.2,\n",
        "      zoom_range=0.2,\n",
        "      horizontal_flip=True,\n",
        "      fill_mode='reflect')\n",
        "\n",
        "VALIDATION_DIR = \"/content/val/\"\n",
        "validation_datagen = tf.keras.preprocessing.image.ImageDataGenerator(rescale = 1./255)\n",
        "\n",
        "train_generator = training_datagen.flow_from_directory(\n",
        "\tTRAINING_DIR,\n",
        "\ttarget_size=(150,150),\n",
        "\tclass_mode='categorical'\n",
        ")\n",
        "\n",
        "validation_generator = validation_datagen.flow_from_directory(\n",
        "\tVALIDATION_DIR,\n",
        "\ttarget_size=(150,150),\n",
        "\tclass_mode='categorical'\n",
        ")\n",
        "TESTING_DIR = \"/content/test/\"\n",
        "testing_datagen = tf.keras.preprocessing.image.ImageDataGenerator(\n",
        "      rescale = 1./255\n",
        "\t    )\n",
        "\n",
        "testing_generator = testing_datagen.flow_from_directory(\n",
        "\tTESTING_DIR,\n",
        "\ttarget_size=(150,150),\n",
        "\tclass_mode='categorical'\n",
        ")"
      ],
      "id": "JcZ6S4tX8e2U"
    },
    {
      "cell_type": "code",
      "execution_count": 12,
      "metadata": {
        "colab": {
          "base_uri": "https://localhost:8080/"
        },
        "id": "MGYMwubL83C5",
        "outputId": "f886f403-0e6b-45e9-d09b-d5d199a2032f"
      },
      "outputs": [
        {
          "output_type": "stream",
          "name": "stdout",
          "text": [
            "Model: \"sequential\"\n",
            "_________________________________________________________________\n",
            " Layer (type)                Output Shape              Param #   \n",
            "=================================================================\n",
            " conv2d (Conv2D)             (None, 148, 148, 64)      1792      \n",
            "                                                                 \n",
            " max_pooling2d (MaxPooling2D  (None, 74, 74, 64)       0         \n",
            " )                                                               \n",
            "                                                                 \n",
            " conv2d_1 (Conv2D)           (None, 72, 72, 64)        36928     \n",
            "                                                                 \n",
            " max_pooling2d_1 (MaxPooling  (None, 36, 36, 64)       0         \n",
            " 2D)                                                             \n",
            "                                                                 \n",
            " conv2d_2 (Conv2D)           (None, 34, 34, 128)       73856     \n",
            "                                                                 \n",
            " max_pooling2d_2 (MaxPooling  (None, 17, 17, 128)      0         \n",
            " 2D)                                                             \n",
            "                                                                 \n",
            " conv2d_3 (Conv2D)           (None, 15, 15, 128)       147584    \n",
            "                                                                 \n",
            " max_pooling2d_3 (MaxPooling  (None, 7, 7, 128)        0         \n",
            " 2D)                                                             \n",
            "                                                                 \n",
            " flatten (Flatten)           (None, 6272)              0         \n",
            "                                                                 \n",
            " dropout (Dropout)           (None, 6272)              0         \n",
            "                                                                 \n",
            " dense (Dense)               (None, 512)               3211776   \n",
            "                                                                 \n",
            " dense_1 (Dense)             (None, 3)                 1539      \n",
            "                                                                 \n",
            "=================================================================\n",
            "Total params: 3,473,475\n",
            "Trainable params: 3,473,475\n",
            "Non-trainable params: 0\n",
            "_________________________________________________________________\n"
          ]
        }
      ],
      "source": [
        "model = tf.keras.models.Sequential([\n",
        "    # Note the input shape is the desired size of the image 150x150 with 3 bytes color\n",
        "    # This is the first convolution\n",
        "    tf.keras.layers.Conv2D(64, (3,3), activation='relu', input_shape=(150, 150, 3)),\n",
        "    tf.keras.layers.MaxPooling2D(2, 2),\n",
        "    # The second convolution\n",
        "    tf.keras.layers.Conv2D(64, (3,3), activation='relu'),\n",
        "    tf.keras.layers.MaxPooling2D(2,2),\n",
        "    # The third convolution\n",
        "    tf.keras.layers.Conv2D(128, (3,3), activation='relu'),\n",
        "    tf.keras.layers.MaxPooling2D(2,2),\n",
        "    # The fourth convolution\n",
        "    tf.keras.layers.Conv2D(128, (3,3), activation='relu'),\n",
        "    tf.keras.layers.MaxPooling2D(2,2),\n",
        "    # Flatten the results to feed into a DNN\n",
        "    tf.keras.layers.Flatten(),\n",
        "    tf.keras.layers.Dropout(0.5),\n",
        "    # 512 neuron hidden layer\n",
        "    tf.keras.layers.Dense(512, activation='relu'),\n",
        "    tf.keras.layers.Dense(3, activation='softmax')\n",
        "])\n",
        "\n",
        "\n",
        "model.summary()\n",
        "\n",
        "model.compile(loss = 'categorical_crossentropy', optimizer='rmsprop', metrics=['accuracy'])"
      ],
      "id": "MGYMwubL83C5"
    },
    {
      "cell_type": "code",
      "execution_count": 13,
      "metadata": {
        "colab": {
          "base_uri": "https://localhost:8080/"
        },
        "id": "chTfq8cf87o7",
        "outputId": "35e4206d-4d34-4339-c438-d632dcc969ab"
      },
      "outputs": [
        {
          "output_type": "stream",
          "name": "stdout",
          "text": [
            "Epoch 1/50\n",
            "10/10 [==============================] - 11s 661ms/step - loss: 1.1617 - accuracy: 0.3531 - val_loss: 1.0011 - val_accuracy: 0.4469\n",
            "Epoch 2/50\n",
            "10/10 [==============================] - 6s 554ms/step - loss: 0.9505 - accuracy: 0.4656 - val_loss: 0.8712 - val_accuracy: 0.4969\n",
            "Epoch 3/50\n",
            "10/10 [==============================] - 4s 393ms/step - loss: 1.0678 - accuracy: 0.5281 - val_loss: 0.9608 - val_accuracy: 0.5906\n",
            "Epoch 4/50\n",
            "10/10 [==============================] - 3s 343ms/step - loss: 0.8910 - accuracy: 0.5281 - val_loss: 0.8910 - val_accuracy: 0.4875\n",
            "Epoch 5/50\n",
            "10/10 [==============================] - 3s 338ms/step - loss: 0.8661 - accuracy: 0.5312 - val_loss: 1.0083 - val_accuracy: 0.4844\n",
            "Epoch 6/50\n",
            "10/10 [==============================] - 3s 339ms/step - loss: 0.7872 - accuracy: 0.6125 - val_loss: 0.6458 - val_accuracy: 0.7625\n",
            "Epoch 7/50\n",
            "10/10 [==============================] - 4s 393ms/step - loss: 1.1432 - accuracy: 0.6156 - val_loss: 0.6870 - val_accuracy: 0.7063\n",
            "Epoch 8/50\n",
            "10/10 [==============================] - 3s 338ms/step - loss: 0.9082 - accuracy: 0.6156 - val_loss: 0.7012 - val_accuracy: 0.6750\n",
            "Epoch 9/50\n",
            "10/10 [==============================] - 4s 379ms/step - loss: 0.8681 - accuracy: 0.6228 - val_loss: 0.7222 - val_accuracy: 0.6469\n",
            "Epoch 10/50\n",
            "10/10 [==============================] - 4s 399ms/step - loss: 0.7525 - accuracy: 0.6938 - val_loss: 0.7647 - val_accuracy: 0.5437\n",
            "Epoch 11/50\n",
            "10/10 [==============================] - 3s 330ms/step - loss: 0.7522 - accuracy: 0.6844 - val_loss: 0.6476 - val_accuracy: 0.6938\n",
            "Epoch 12/50\n",
            "10/10 [==============================] - 3s 340ms/step - loss: 0.7027 - accuracy: 0.7063 - val_loss: 0.6399 - val_accuracy: 0.6719\n",
            "Epoch 13/50\n",
            "10/10 [==============================] - 3s 341ms/step - loss: 1.1285 - accuracy: 0.5813 - val_loss: 0.7735 - val_accuracy: 0.5000\n",
            "Epoch 14/50\n",
            "10/10 [==============================] - 3s 339ms/step - loss: 0.6802 - accuracy: 0.7031 - val_loss: 0.5010 - val_accuracy: 0.8344\n",
            "Epoch 15/50\n",
            "10/10 [==============================] - 4s 397ms/step - loss: 0.6266 - accuracy: 0.7563 - val_loss: 0.5021 - val_accuracy: 0.8281\n",
            "Epoch 16/50\n",
            "10/10 [==============================] - 4s 395ms/step - loss: 0.5717 - accuracy: 0.7500 - val_loss: 0.5390 - val_accuracy: 0.7375\n",
            "Epoch 17/50\n",
            "10/10 [==============================] - 4s 372ms/step - loss: 0.8291 - accuracy: 0.6886 - val_loss: 0.7131 - val_accuracy: 0.7031\n",
            "Epoch 18/50\n",
            "10/10 [==============================] - 3s 343ms/step - loss: 0.7133 - accuracy: 0.7059 - val_loss: 0.5026 - val_accuracy: 0.8469\n",
            "Epoch 19/50\n",
            "10/10 [==============================] - 4s 338ms/step - loss: 0.8578 - accuracy: 0.6562 - val_loss: 0.6075 - val_accuracy: 0.7188\n",
            "Epoch 20/50\n",
            "10/10 [==============================] - 3s 338ms/step - loss: 0.6289 - accuracy: 0.7469 - val_loss: 0.5201 - val_accuracy: 0.8594\n",
            "Epoch 21/50\n",
            "10/10 [==============================] - 3s 338ms/step - loss: 0.7092 - accuracy: 0.7344 - val_loss: 0.6938 - val_accuracy: 0.6438\n",
            "Epoch 22/50\n",
            "10/10 [==============================] - 3s 340ms/step - loss: 0.6027 - accuracy: 0.7563 - val_loss: 0.5740 - val_accuracy: 0.8094\n",
            "Epoch 23/50\n",
            "10/10 [==============================] - 3s 338ms/step - loss: 0.5637 - accuracy: 0.7781 - val_loss: 1.0833 - val_accuracy: 0.5750\n",
            "Epoch 24/50\n",
            "10/10 [==============================] - 3s 329ms/step - loss: 0.6188 - accuracy: 0.7563 - val_loss: 0.7331 - val_accuracy: 0.6969\n",
            "Epoch 25/50\n",
            "10/10 [==============================] - 3s 317ms/step - loss: 0.7474 - accuracy: 0.7024 - val_loss: 0.7103 - val_accuracy: 0.6938\n",
            "Epoch 26/50\n",
            "10/10 [==============================] - 4s 393ms/step - loss: 0.5027 - accuracy: 0.8094 - val_loss: 0.4844 - val_accuracy: 0.7656\n",
            "Epoch 27/50\n",
            "10/10 [==============================] - 3s 334ms/step - loss: 0.7079 - accuracy: 0.7594 - val_loss: 0.5387 - val_accuracy: 0.7500\n",
            "Epoch 28/50\n",
            "10/10 [==============================] - 3s 338ms/step - loss: 0.5784 - accuracy: 0.7625 - val_loss: 0.9117 - val_accuracy: 0.6562\n",
            "Epoch 29/50\n",
            "10/10 [==============================] - 3s 336ms/step - loss: 0.6123 - accuracy: 0.7594 - val_loss: 0.5483 - val_accuracy: 0.7594\n",
            "Epoch 30/50\n",
            "10/10 [==============================] - 3s 343ms/step - loss: 0.4127 - accuracy: 0.8344 - val_loss: 0.3939 - val_accuracy: 0.8313\n",
            "Epoch 31/50\n",
            "10/10 [==============================] - 3s 342ms/step - loss: 0.5682 - accuracy: 0.7719 - val_loss: 0.8855 - val_accuracy: 0.6187\n",
            "Epoch 32/50\n",
            "10/10 [==============================] - 4s 397ms/step - loss: 0.5776 - accuracy: 0.7812 - val_loss: 1.1376 - val_accuracy: 0.5375\n",
            "Epoch 33/50\n",
            "10/10 [==============================] - 3s 344ms/step - loss: 0.5297 - accuracy: 0.7812 - val_loss: 0.5275 - val_accuracy: 0.7375\n",
            "Epoch 34/50\n",
            "10/10 [==============================] - 3s 341ms/step - loss: 0.5735 - accuracy: 0.8000 - val_loss: 0.3605 - val_accuracy: 0.8906\n",
            "Epoch 35/50\n",
            "10/10 [==============================] - 3s 339ms/step - loss: 0.6280 - accuracy: 0.7469 - val_loss: 0.3573 - val_accuracy: 0.8906\n",
            "Epoch 36/50\n",
            "10/10 [==============================] - 3s 338ms/step - loss: 0.5359 - accuracy: 0.7656 - val_loss: 0.7031 - val_accuracy: 0.7312\n",
            "Epoch 37/50\n",
            "10/10 [==============================] - 3s 346ms/step - loss: 0.3948 - accuracy: 0.8469 - val_loss: 0.7058 - val_accuracy: 0.7531\n",
            "Epoch 38/50\n",
            "10/10 [==============================] - 3s 343ms/step - loss: 0.5691 - accuracy: 0.7781 - val_loss: 0.8638 - val_accuracy: 0.4313\n",
            "Epoch 39/50\n",
            "10/10 [==============================] - 3s 314ms/step - loss: 0.4799 - accuracy: 0.7889 - val_loss: 0.5054 - val_accuracy: 0.7781\n",
            "Epoch 40/50\n",
            "10/10 [==============================] - 3s 337ms/step - loss: 1.4687 - accuracy: 0.7094 - val_loss: 0.3689 - val_accuracy: 0.8531\n",
            "Epoch 41/50\n",
            "10/10 [==============================] - 3s 317ms/step - loss: 0.6100 - accuracy: 0.7336 - val_loss: 0.4452 - val_accuracy: 0.8562\n",
            "Epoch 42/50\n",
            "10/10 [==============================] - 3s 318ms/step - loss: 0.3248 - accuracy: 0.8789 - val_loss: 0.8827 - val_accuracy: 0.6906\n",
            "Epoch 43/50\n",
            "10/10 [==============================] - 3s 316ms/step - loss: 0.4084 - accuracy: 0.8131 - val_loss: 0.4075 - val_accuracy: 0.8344\n",
            "Epoch 44/50\n",
            "10/10 [==============================] - 4s 374ms/step - loss: 0.2756 - accuracy: 0.9031 - val_loss: 0.3348 - val_accuracy: 0.9125\n",
            "Epoch 45/50\n",
            "10/10 [==============================] - 3s 320ms/step - loss: 0.6051 - accuracy: 0.7647 - val_loss: 0.2570 - val_accuracy: 0.9219\n",
            "Epoch 46/50\n",
            "10/10 [==============================] - 4s 394ms/step - loss: 0.4138 - accuracy: 0.8500 - val_loss: 0.8272 - val_accuracy: 0.7344\n",
            "Epoch 47/50\n",
            "10/10 [==============================] - 3s 336ms/step - loss: 0.4456 - accuracy: 0.8156 - val_loss: 0.3687 - val_accuracy: 0.8469\n",
            "Epoch 48/50\n",
            "10/10 [==============================] - 3s 347ms/step - loss: 0.5334 - accuracy: 0.8094 - val_loss: 1.0762 - val_accuracy: 0.6000\n",
            "Epoch 49/50\n",
            "10/10 [==============================] - 3s 337ms/step - loss: 0.4024 - accuracy: 0.8281 - val_loss: 0.3712 - val_accuracy: 0.8250\n",
            "Epoch 50/50\n",
            "10/10 [==============================] - 3s 321ms/step - loss: 0.5150 - accuracy: 0.7785 - val_loss: 0.5321 - val_accuracy: 0.8031\n"
          ]
        }
      ],
      "source": [
        "history = model.fit(train_generator, epochs=50, steps_per_epoch=10, validation_data = validation_generator, verbose = 1, validation_steps=10, shuffle=True)\n",
        "\n",
        "model.save(\"/content/custom_cnn_potato.h5\")"
      ],
      "id": "chTfq8cf87o7"
    },
    {
      "cell_type": "code",
      "execution_count": 15,
      "metadata": {
        "colab": {
          "base_uri": "https://localhost:8080/",
          "height": 299
        },
        "id": "dJyN4aky9Hfp",
        "outputId": "4e29691d-28fb-4345-8ba0-dbc3560a6516"
      },
      "outputs": [
        {
          "output_type": "display_data",
          "data": {
            "text/plain": [
              "<Figure size 432x288 with 1 Axes>"
            ],
            "image/png": "[encoded data removed]"
          },
          "metadata": {
            "needs_background": "light"
          }
        },
        {
          "output_type": "display_data",
          "data": {
            "text/plain": [
              "<Figure size 432x288 with 0 Axes>"
            ]
          },
          "metadata": {}
        }
      ],
      "source": [
        "import matplotlib.pyplot as plt\n",
        "acc = history.history['accuracy']\n",
        "val_acc = history.history['val_accuracy']\n",
        "loss = history.history['loss']\n",
        "val_loss = history.history['val_loss']\n",
        "\n",
        "epochs = range(len(acc))\n",
        "\n",
        "plt.plot(epochs, acc, 'r', label='Training accuracy')\n",
        "plt.plot(epochs, val_acc, 'b', label='Validation accuracy')\n",
        "plt.title('Training and validation accuracy')\n",
        "plt.legend(loc=0)\n",
        "plt.figure()\n",
        "\n",
        "\n",
        "plt.show()"
      ],
      "id": "dJyN4aky9Hfp"
    },
    {
      "cell_type": "code",
      "source": [
        ""
      ],
      "metadata": {
        "id": "dixNdpLvadsJ"
      },
      "id": "dixNdpLvadsJ",
      "execution_count": 14,
      "outputs": []
    }
  ],
  "metadata": {
    "accelerator": "GPU",
    "colab": {
      "collapsed_sections": [],
      "name": "Potato Custom CNN.ipynb",
      "provenance": []
    },
    "kernelspec": {
      "display_name": "Python 3",
      "language": "python",
      "name": "python3"
    },
    "language_info": {
      "codemirror_mode": {
        "name": "ipython",
        "version": 3
      },
      "file_extension": ".py",
      "mimetype": "text/x-python",
      "name": "python",
      "nbconvert_exporter": "python",
      "pygments_lexer": "ipython3",
      "version": "3.8.8"
    }
  },
  "nbformat": 4,
  "nbformat_minor": 5
}