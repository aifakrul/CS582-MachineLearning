{
 "cells": [
  {
   "cell_type": "code",
   "execution_count": 1,
   "id": "f58037c4",
   "metadata": {},
   "outputs": [
    {
     "name": "stdout",
     "output_type": "stream",
     "text": [
      "Requirement already satisfied: opencv-python in d:\\software_installed\\anaconda3\\lib\\site-packages (4.5.5.64)\n",
      "Requirement already satisfied: numpy>=1.14.5 in d:\\software_installed\\anaconda3\\lib\\site-packages (from opencv-python) (1.20.1)\n"
     ]
    }
   ],
   "source": [
    "!pip install opencv-python"
   ]
  },
  {
   "cell_type": "code",
   "execution_count": 2,
   "id": "2f97d594",
   "metadata": {},
   "outputs": [
    {
     "name": "stdout",
     "output_type": "stream",
     "text": [
      "Requirement already satisfied: python-resize-image in d:\\software_installed\\anaconda3\\lib\\site-packages (1.1.20)\n",
      "Requirement already satisfied: Pillow>=5.1.0 in d:\\software_installed\\anaconda3\\lib\\site-packages (from python-resize-image) (8.2.0)\n",
      "Requirement already satisfied: requests>=2.19.1 in d:\\software_installed\\anaconda3\\lib\\site-packages (from python-resize-image) (2.25.1)\n",
      "Requirement already satisfied: certifi>=2017.4.17 in d:\\software_installed\\anaconda3\\lib\\site-packages (from requests>=2.19.1->python-resize-image) (2020.12.5)\n",
      "Requirement already satisfied: urllib3<1.27,>=1.21.1 in d:\\software_installed\\anaconda3\\lib\\site-packages (from requests>=2.19.1->python-resize-image) (1.26.4)\n",
      "Requirement already satisfied: chardet<5,>=3.0.2 in d:\\software_installed\\anaconda3\\lib\\site-packages (from requests>=2.19.1->python-resize-image) (4.0.0)\n",
      "Requirement already satisfied: idna<3,>=2.5 in d:\\software_installed\\anaconda3\\lib\\site-packages (from requests>=2.19.1->python-resize-image) (2.10)\n"
     ]
    }
   ],
   "source": [
    "!pip install python-resize-image"
   ]
  },
  {
   "cell_type": "code",
   "execution_count": 3,
   "id": "a80e0834",
   "metadata": {},
   "outputs": [],
   "source": [
    "from glob import glob  \n",
    "import os                                                         \n",
    "import cv2 \n",
    "import re\n",
    "from PIL import Image\n",
    "from resizeimage import resizeimage\n",
    "from os.path import join\n",
    "from glob import glob"
   ]
  },
  {
   "cell_type": "code",
   "execution_count": 4,
   "id": "0fb89c15",
   "metadata": {},
   "outputs": [
    {
     "name": "stdout",
     "output_type": "stream",
     "text": [
      "Image Dimension Loaded\n",
      "_Potato_EarlyBlight\n"
     ]
    }
   ],
   "source": [
    "IMG_HEIGHT = 28\n",
    "IMG_WIDTH = 28\n",
    "IMAGE_SIZE = [IMG_HEIGHT, IMG_WIDTH]\n",
    "#Crop Images Location\n",
    "CROP_IMAGE_LOCATION='F:/machine_learning_project/archive/potato/Potato___Early_blight'\n",
    "CROP_NAME = '_Potato'\n",
    "DISEASES_NAME = '_EarlyBlight'\n",
    "FINAL_TAG = CROP_NAME+DISEASES_NAME\n",
    "print('Image Dimension Loaded')\n",
    "print(FINAL_TAG)"
   ]
  },
  {
   "cell_type": "code",
   "execution_count": 5,
   "id": "b1141e14",
   "metadata": {},
   "outputs": [
    {
     "name": "stdout",
     "output_type": "stream",
     "text": [
      "Function getsize loaded\n"
     ]
    }
   ],
   "source": [
    "def getListSize(itel_list):\n",
    "    count = 0\n",
    "    for img_path in itel_list:  \n",
    "        count = count + 1\n",
    "    return count\n",
    "\n",
    "print ('Function getsize loaded')"
   ]
  },
  {
   "cell_type": "code",
   "execution_count": 6,
   "id": "333ffab2",
   "metadata": {},
   "outputs": [
    {
     "name": "stdout",
     "output_type": "stream",
     "text": [
      "Function process_image load\n"
     ]
    }
   ],
   "source": [
    "def process_image(image_path, count, tag):\n",
    "    path, filename = os.path.split(image_path)   \n",
    "    filename_w_ext = os.path.basename(image_path)\n",
    "    filename, file_extension = os.path.splitext(filename_w_ext)\n",
    "    #print('Path, File Name and Extension: ',path, filename, file_extension)\n",
    "    _newfilename=path+\"/\"+str(count)+\"_\"+tag+file_extension\n",
    "    #print(_newfilename)\n",
    "    with open(image_path, 'r+b') as f:\n",
    "        with Image.open(f) as image:\n",
    "            cover = resizeimage.resize_cover(image, [IMG_HEIGHT, IMG_WIDTH])\n",
    "            cover.save(_newfilename, image.format)\n",
    "            os.remove(image_path) \n",
    "\n",
    "            \n",
    "print('Function process_image load')"
   ]
  },
  {
   "cell_type": "code",
   "execution_count": 8,
   "id": "b4d9957c",
   "metadata": {},
   "outputs": [],
   "source": [
    "CROP_IMAGE_Files = []\n",
    "for ext in ('*.JPG'):\n",
    "   CROP_IMAGE_Files.extend(glob(join(CROP_IMAGE_LOCATION, ext)))"
   ]
  },
  {
   "cell_type": "code",
   "execution_count": 9,
   "id": "db472728",
   "metadata": {},
   "outputs": [
    {
     "name": "stdout",
     "output_type": "stream",
     "text": [
      "Total CROP_IMAGE_Files : 1001\n"
     ]
    }
   ],
   "source": [
    "print('Total CROP_IMAGE_Files :',getListSize(CROP_IMAGE_Files))"
   ]
  },
  {
   "cell_type": "code",
   "execution_count": 10,
   "id": "c0e99646",
   "metadata": {},
   "outputs": [
    {
     "name": "stdout",
     "output_type": "stream",
     "text": [
      "CROP_LOCATION_IMAGES: F:/machine_learning_project/archive/potato/Potato___Early_blight\n"
     ]
    },
    {
     "ename": "PermissionError",
     "evalue": "[WinError 32] The process cannot access the file because it is being used by another process: 'F:/machine_learning_project/archive/potato/Potato___Early_blight\\\\001187a0-57ab-4329-baff-e7246a9edeb0___RS_Early.B 8178.JPG'",
     "output_type": "error",
     "traceback": [
      "\u001b[1;31m---------------------------------------------------------------------------\u001b[0m",
      "\u001b[1;31mPermissionError\u001b[0m                           Traceback (most recent call last)",
      "\u001b[1;32m<ipython-input-10-a6c56f1ffa0b>\u001b[0m in \u001b[0;36m<module>\u001b[1;34m\u001b[0m\n\u001b[0;32m      4\u001b[0m \u001b[1;32mfor\u001b[0m \u001b[0mIMAGE_PATH\u001b[0m \u001b[1;32min\u001b[0m \u001b[0mCROP_IMAGE_Files\u001b[0m\u001b[1;33m:\u001b[0m\u001b[1;33m\u001b[0m\u001b[1;33m\u001b[0m\u001b[0m\n\u001b[0;32m      5\u001b[0m     \u001b[0mcount\u001b[0m \u001b[1;33m=\u001b[0m \u001b[0mcount\u001b[0m \u001b[1;33m+\u001b[0m \u001b[1;36m1\u001b[0m\u001b[1;33m\u001b[0m\u001b[1;33m\u001b[0m\u001b[0m\n\u001b[1;32m----> 6\u001b[1;33m     \u001b[0mprocess_image\u001b[0m\u001b[1;33m(\u001b[0m\u001b[0mIMAGE_PATH\u001b[0m\u001b[1;33m,\u001b[0m \u001b[0mcount\u001b[0m\u001b[1;33m,\u001b[0m \u001b[0mFINAL_TAG\u001b[0m\u001b[1;33m)\u001b[0m\u001b[1;33m\u001b[0m\u001b[1;33m\u001b[0m\u001b[0m\n\u001b[0m\u001b[0;32m      7\u001b[0m \u001b[1;33m\u001b[0m\u001b[0m\n\u001b[0;32m      8\u001b[0m \u001b[0mprint\u001b[0m\u001b[1;33m(\u001b[0m\u001b[1;34m\"Total Images: \"\u001b[0m \u001b[1;33m+\u001b[0m\u001b[0mstr\u001b[0m\u001b[1;33m(\u001b[0m\u001b[0mcount\u001b[0m\u001b[1;33m)\u001b[0m\u001b[1;33m)\u001b[0m\u001b[1;33m\u001b[0m\u001b[1;33m\u001b[0m\u001b[0m\n",
      "\u001b[1;32m<ipython-input-6-a29b964fa9e0>\u001b[0m in \u001b[0;36mprocess_image\u001b[1;34m(image_path, count, tag)\u001b[0m\n\u001b[0;32m     10\u001b[0m             \u001b[0mcover\u001b[0m \u001b[1;33m=\u001b[0m \u001b[0mresizeimage\u001b[0m\u001b[1;33m.\u001b[0m\u001b[0mresize_cover\u001b[0m\u001b[1;33m(\u001b[0m\u001b[0mimage\u001b[0m\u001b[1;33m,\u001b[0m \u001b[1;33m[\u001b[0m\u001b[0mIMG_HEIGHT\u001b[0m\u001b[1;33m,\u001b[0m \u001b[0mIMG_WIDTH\u001b[0m\u001b[1;33m]\u001b[0m\u001b[1;33m)\u001b[0m\u001b[1;33m\u001b[0m\u001b[1;33m\u001b[0m\u001b[0m\n\u001b[0;32m     11\u001b[0m             \u001b[0mcover\u001b[0m\u001b[1;33m.\u001b[0m\u001b[0msave\u001b[0m\u001b[1;33m(\u001b[0m\u001b[0m_newfilename\u001b[0m\u001b[1;33m,\u001b[0m \u001b[0mimage\u001b[0m\u001b[1;33m.\u001b[0m\u001b[0mformat\u001b[0m\u001b[1;33m)\u001b[0m\u001b[1;33m\u001b[0m\u001b[1;33m\u001b[0m\u001b[0m\n\u001b[1;32m---> 12\u001b[1;33m             \u001b[0mos\u001b[0m\u001b[1;33m.\u001b[0m\u001b[0mremove\u001b[0m\u001b[1;33m(\u001b[0m\u001b[0mimage_path\u001b[0m\u001b[1;33m)\u001b[0m\u001b[1;33m\u001b[0m\u001b[1;33m\u001b[0m\u001b[0m\n\u001b[0m\u001b[0;32m     13\u001b[0m \u001b[1;33m\u001b[0m\u001b[0m\n\u001b[0;32m     14\u001b[0m \u001b[1;33m\u001b[0m\u001b[0m\n",
      "\u001b[1;31mPermissionError\u001b[0m: [WinError 32] The process cannot access the file because it is being used by another process: 'F:/machine_learning_project/archive/potato/Potato___Early_blight\\\\001187a0-57ab-4329-baff-e7246a9edeb0___RS_Early.B 8178.JPG'"
     ]
    }
   ],
   "source": [
    "count=0\n",
    "print('CROP_LOCATION_IMAGES:',CROP_IMAGE_LOCATION)\n",
    "# Load all images\n",
    "for IMAGE_PATH in CROP_IMAGE_Files:\n",
    "    count = count + 1 \n",
    "    process_image(IMAGE_PATH, count, FINAL_TAG)\n",
    "\n",
    "print(\"Total Images: \" +str(count))"
   ]
  },
  {
   "cell_type": "code",
   "execution_count": null,
   "id": "acf78d2a",
   "metadata": {},
   "outputs": [],
   "source": []
  }
 ],
 "metadata": {
  "kernelspec": {
   "display_name": "Python 3",
   "language": "python",
   "name": "python3"
  },
  "language_info": {
   "codemirror_mode": {
    "name": "ipython",
    "version": 3
   },
   "file_extension": ".py",
   "mimetype": "text/x-python",
   "name": "python",
   "nbconvert_exporter": "python",
   "pygments_lexer": "ipython3",
   "version": "3.8.8"
  }
 },
 "nbformat": 4,
 "nbformat_minor": 5
}
